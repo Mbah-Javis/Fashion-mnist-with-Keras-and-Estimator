{
 "cells": [
  {
   "cell_type": "code",
   "execution_count": 2,
   "metadata": {},
   "outputs": [],
   "source": [
    "#Importing the neccessary modules\n",
    "import tensorflow as tf\n",
    "import numpy as np \n",
    "import pandas as pd\n",
    "import matplotlib.pyplot as plt"
   ]
  },
  {
   "cell_type": "code",
   "execution_count": 5,
   "metadata": {},
   "outputs": [],
   "source": [
    "#the training and testing datasets in csv format\n",
    "train_data = \"fashion-mnist_train.csv\"\n",
    "test_data = \"fashion-mnist_test.csv\""
   ]
  },
  {
   "cell_type": "code",
   "execution_count": 6,
   "metadata": {},
   "outputs": [],
   "source": [
    "#reading the train_data and test_data usign the pandas libary\n",
    "train = pd.read_csv(train_data)\n",
    "test = pd.read_csv(test_data)"
   ]
  },
  {
   "cell_type": "code",
   "execution_count": 7,
   "metadata": {},
   "outputs": [
    {
     "name": "stdout",
     "output_type": "stream",
     "text": [
      "Test\n",
      "\n",
      "    label  pixel1  pixel2  pixel3  pixel4  pixel5  pixel6  pixel7  pixel8  \\\n",
      "0      2       0       0       0       0       0       0       0       0   \n",
      "1      9       0       0       0       0       0       0       0       0   \n",
      "2      6       0       0       0       0       0       0       0       5   \n",
      "3      0       0       0       0       1       2       0       0       0   \n",
      "4      3       0       0       0       0       0       0       0       0   \n",
      "\n",
      "   pixel9  ...  pixel775  pixel776  pixel777  pixel778  pixel779  pixel780  \\\n",
      "0       0  ...         0         0         0         0         0         0   \n",
      "1       0  ...         0         0         0         0         0         0   \n",
      "2       0  ...         0         0         0        30        43         0   \n",
      "3       0  ...         3         0         0         0         0         1   \n",
      "4       0  ...         0         0         0         0         0         0   \n",
      "\n",
      "   pixel781  pixel782  pixel783  pixel784  \n",
      "0         0         0         0         0  \n",
      "1         0         0         0         0  \n",
      "2         0         0         0         0  \n",
      "3         0         0         0         0  \n",
      "4         0         0         0         0  \n",
      "\n",
      "[5 rows x 785 columns] \n",
      "\n",
      "\n",
      "Train\n",
      "\n",
      "    label  pixel1  pixel2  pixel3  pixel4  pixel5  pixel6  pixel7  pixel8  \\\n",
      "0      0       0       0       0       0       0       0       0       9   \n",
      "1      1       0       0       0       0       0       0       0       0   \n",
      "2      2       0       0       0       0       0       0      14      53   \n",
      "3      2       0       0       0       0       0       0       0       0   \n",
      "4      3       0       0       0       0       0       0       0       0   \n",
      "\n",
      "   pixel9  ...  pixel775  pixel776  pixel777  pixel778  pixel779  pixel780  \\\n",
      "0       8  ...       103        87        56         0         0         0   \n",
      "1       0  ...        34         0         0         0         0         0   \n",
      "2      99  ...         0         0         0         0        63        53   \n",
      "3       0  ...       137       126       140         0       133       224   \n",
      "4       0  ...         0         0         0         0         0         0   \n",
      "\n",
      "   pixel781  pixel782  pixel783  pixel784  \n",
      "0         0         0         0         0  \n",
      "1         0         0         0         0  \n",
      "2        31         0         0         0  \n",
      "3       222        56         0         0  \n",
      "4         0         0         0         0  \n",
      "\n",
      "[5 rows x 785 columns] \n",
      "\n",
      "\n"
     ]
    }
   ],
   "source": [
    "print(\"Test\\n\\n\", train.head() , \"\\n\\n\")\n",
    "print(\"Train\\n\\n\" , test.head() , \"\\n\\n\")"
   ]
  },
  {
   "cell_type": "code",
   "execution_count": 8,
   "metadata": {},
   "outputs": [],
   "source": [
    "#function to get the features and labels from the train and test data\n",
    "def get_features_labels(data):\n",
    "    features = data.values[:, 1:]/255\n",
    "    labels = data['label'].values\n",
    "    return features, labels"
   ]
  },
  {
   "cell_type": "code",
   "execution_count": 90,
   "metadata": {},
   "outputs": [
    {
     "name": "stdout",
     "output_type": "stream",
     "text": [
      "(60000, 784)\n",
      "(10000, 784)\n"
     ]
    }
   ],
   "source": [
    "#getting the features and labels \n",
    "train_features, train_labels = get_features_labels(train)\n",
    "test_features, test_labels = get_features_labels(test)\n",
    "\n",
    "#printing their shapes\n",
    "print(train_features.shape)\n",
    "print(test_features.shape)\n"
   ]
  },
  {
   "cell_type": "markdown",
   "metadata": {},
   "source": [
    "<h4>Building the keras model</h4>"
   ]
  },
  {
   "cell_type": "code",
   "execution_count": 11,
   "metadata": {},
   "outputs": [
    {
     "name": "stdout",
     "output_type": "stream",
     "text": [
      "Model: \"sequential_1\"\n",
      "_________________________________________________________________\n",
      "Layer (type)                 Output Shape              Param #   \n",
      "=================================================================\n",
      "dense_3 (Dense)              (None, 30)                23550     \n",
      "_________________________________________________________________\n",
      "dense_4 (Dense)              (None, 20)                620       \n",
      "_________________________________________________________________\n",
      "dense_5 (Dense)              (None, 10)                210       \n",
      "=================================================================\n",
      "Total params: 24,380\n",
      "Trainable params: 24,380\n",
      "Non-trainable params: 0\n",
      "_________________________________________________________________\n"
     ]
    }
   ],
   "source": [
    "# Building the keras model with the relu and softmax activation fuctions\n",
    "model = tf.keras.Sequential()\n",
    "model.add(tf.keras.layers.Dense(30, activation=tf.nn.relu, input_shape=(784,)))\n",
    "model.add(tf.keras.layers.Dense(20, activation=tf.nn.relu))\n",
    "model.add(tf.keras.layers.Dense(10, activation=tf.nn.softmax))\n",
    "\n",
    "#Compiling the model and printing the summary()\n",
    "model.compile(loss='categorical_crossentropy',\n",
    "              optimizer='rmsprop',\n",
    "              metrics=['accuracy'])\n",
    "\n",
    "model.summary()\n"
   ]
  },
  {
   "cell_type": "code",
   "execution_count": 12,
   "metadata": {},
   "outputs": [
    {
     "name": "stdout",
     "output_type": "stream",
     "text": [
      "Epoch 1/5\n",
      "60000/60000 [==============================] - 15s 247us/sample - loss: 0.6508 - acc: 0.7759\n",
      "Epoch 2/5\n",
      "60000/60000 [==============================] - 29s 476us/sample - loss: 0.4572 - acc: 0.8397\n",
      "Epoch 3/5\n",
      "60000/60000 [==============================] - 13s 214us/sample - loss: 0.4152 - acc: 0.8545\n",
      "Epoch 4/5\n",
      "60000/60000 [==============================] - 12s 199us/sample - loss: 0.3902 - acc: 0.8641\n",
      "Epoch 5/5\n",
      "60000/60000 [==============================] - 13s 223us/sample - loss: 0.3738 - acc: 0.8676 - loss: 0.3743 - acc: 0.86 - ETA: 2s\n"
     ]
    },
    {
     "data": {
      "text/plain": [
       "<tensorflow.python.keras.callbacks.History at 0xeb1486ffc8>"
      ]
     },
     "execution_count": 12,
     "metadata": {},
     "output_type": "execute_result"
    }
   ],
   "source": [
    "#encoding the labels becuase i am using categorical_crossentropy in compiling the model\n",
    "train_labels_1hot = tf.keras.utils.to_categorical(train_labels)\n",
    "test_labels_1hot = tf.keras.utils.to_categorical(test_labels)\n",
    "\n",
    "model.fit(train_features, train_labels_1hot, epochs=5, batch_size=128)"
   ]
  },
  {
   "cell_type": "code",
   "execution_count": 13,
   "metadata": {},
   "outputs": [
    {
     "name": "stdout",
     "output_type": "stream",
     "text": [
      "10000/10000 [==============================] - 2s 160us/sample - loss: 0.3869 - acc: 0.8600\n",
      "Test Loss =  0.38687515287399293\n",
      "Test accuracy =  0.86\n"
     ]
    }
   ],
   "source": [
    "#evaluate the model and print its loss and accuracy\n",
    "test_loss, test_accuracy = model.evaluate(test_features, test_labels_1hot)\n",
    "\n",
    "print(\"Test Loss = \", test_loss)\n",
    "print(\"Test accuracy = \", test_accuracy)"
   ]
  },
  {
   "cell_type": "code",
   "execution_count": 14,
   "metadata": {},
   "outputs": [],
   "source": [
    "#Then i save the model trained with keras\n",
    "model.save('keras_model.h5')"
   ]
  },
  {
   "cell_type": "markdown",
   "metadata": {},
   "source": [
    "<h4>Converting the model to tf.estimator model</h4>"
   ]
  },
  {
   "cell_type": "code",
   "execution_count": 92,
   "metadata": {},
   "outputs": [
    {
     "name": "stdout",
     "output_type": "stream",
     "text": [
      "INFO:tensorflow:Using default config.\n",
      "WARNING:tensorflow:Using temporary folder as model directory: C:\\Users\\Javis\\AppData\\Local\\Temp\\tmpvterx6ar\n",
      "INFO:tensorflow:Using the Keras model provided.\n",
      "INFO:tensorflow:Using config: {'_model_dir': 'C:\\\\Users\\\\Javis\\\\AppData\\\\Local\\\\Temp\\\\tmpvterx6ar', '_tf_random_seed': None, '_save_summary_steps': 100, '_save_checkpoints_steps': None, '_save_checkpoints_secs': 600, '_session_config': allow_soft_placement: true\n",
      "graph_options {\n",
      "  rewrite_options {\n",
      "    meta_optimizer_iterations: ONE\n",
      "  }\n",
      "}\n",
      ", '_keep_checkpoint_max': 5, '_keep_checkpoint_every_n_hours': 10000, '_log_step_count_steps': 100, '_train_distribute': None, '_device_fn': None, '_protocol': None, '_eval_distribute': None, '_experimental_distribute': None, '_experimental_max_worker_delay_secs': None, '_service': None, '_cluster_spec': <tensorflow.python.training.server_lib.ClusterSpec object at 0x000000EB63AB1688>, '_task_type': 'worker', '_task_id': 0, '_global_id_in_cluster': 0, '_master': '', '_evaluation_master': '', '_is_chief': True, '_num_ps_replicas': 0, '_num_worker_replicas': 1}\n"
     ]
    }
   ],
   "source": [
    "#converting the keras model to estimator model\n",
    "tf_classifier_model = tf.keras.estimator.model_to_estimator(keras_model=model)"
   ]
  },
  {
   "cell_type": "markdown",
   "metadata": {},
   "source": [
    "<h4>Training the model with tf.estimator</h4>"
   ]
  },
  {
   "cell_type": "code",
   "execution_count": 93,
   "metadata": {},
   "outputs": [],
   "source": [
    "input_name = model.input_names[0]\n",
    "\n",
    "#preparing input for training the model with tf.estimator\n",
    "train_input_fn = tf.estimator.inputs.numpy_input_fn(x={input_name: train_features}, y=train_labels_1hot, batch_size=128, \n",
    "                                                    num_epochs=5, shuffle=True)\n",
    "#getting input names\n",
    "feature_columns = [tf.feature_column.numeric_column(input_name, shape=784)]"
   ]
  },
  {
   "cell_type": "code",
   "execution_count": 94,
   "metadata": {},
   "outputs": [],
   "source": [
    "classifier = tf_classifier_model"
   ]
  },
  {
   "cell_type": "code",
   "execution_count": 95,
   "metadata": {},
   "outputs": [
    {
     "name": "stdout",
     "output_type": "stream",
     "text": [
      "INFO:tensorflow:Calling model_fn.\n",
      "INFO:tensorflow:Done calling model_fn.\n",
      "INFO:tensorflow:Warm-starting with WarmStartSettings: WarmStartSettings(ckpt_to_initialize_from='C:\\\\Users\\\\Javis\\\\AppData\\\\Local\\\\Temp\\\\tmpvterx6ar\\\\keras\\\\keras_model.ckpt', vars_to_warm_start='.*', var_name_to_vocab_info={}, var_name_to_prev_var_name={})\n",
      "INFO:tensorflow:Warm-starting from: ('C:\\\\Users\\\\Javis\\\\AppData\\\\Local\\\\Temp\\\\tmpvterx6ar\\\\keras\\\\keras_model.ckpt',)\n",
      "INFO:tensorflow:Warm-starting variables only in TRAINABLE_VARIABLES.\n",
      "INFO:tensorflow:Warm-started 6 variables.\n",
      "INFO:tensorflow:Create CheckpointSaverHook.\n",
      "INFO:tensorflow:Graph was finalized.\n",
      "INFO:tensorflow:Running local_init_op.\n",
      "INFO:tensorflow:Done running local_init_op.\n",
      "INFO:tensorflow:Saving checkpoints for 0 into C:\\Users\\Javis\\AppData\\Local\\Temp\\tmpvterx6ar\\model.ckpt.\n",
      "INFO:tensorflow:loss = 0.38186187, step = 1\n",
      "INFO:tensorflow:global_step/sec: 45.9532\n",
      "INFO:tensorflow:loss = 0.43143943, step = 101 (2.181 sec)\n",
      "INFO:tensorflow:global_step/sec: 52.6009\n",
      "INFO:tensorflow:loss = 0.21987629, step = 201 (1.900 sec)\n",
      "INFO:tensorflow:global_step/sec: 52.1075\n",
      "INFO:tensorflow:loss = 0.38624144, step = 301 (1.918 sec)\n",
      "INFO:tensorflow:global_step/sec: 46.1228\n",
      "INFO:tensorflow:loss = 0.28844047, step = 401 (2.168 sec)\n",
      "INFO:tensorflow:global_step/sec: 55.2455\n",
      "INFO:tensorflow:loss = 0.38312, step = 501 (1.810 sec)\n",
      "INFO:tensorflow:global_step/sec: 66.6183\n",
      "INFO:tensorflow:loss = 0.36532995, step = 601 (1.501 sec)\n",
      "INFO:tensorflow:global_step/sec: 72.9354\n",
      "INFO:tensorflow:loss = 0.27541608, step = 701 (1.371 sec)\n",
      "INFO:tensorflow:global_step/sec: 77.877\n",
      "INFO:tensorflow:loss = 0.3762232, step = 801 (1.284 sec)\n",
      "INFO:tensorflow:global_step/sec: 72.8291\n",
      "INFO:tensorflow:loss = 0.29515296, step = 901 (1.376 sec)\n",
      "INFO:tensorflow:global_step/sec: 76.1571\n",
      "INFO:tensorflow:loss = 0.44042426, step = 1001 (1.310 sec)\n",
      "INFO:tensorflow:global_step/sec: 74.9582\n",
      "INFO:tensorflow:loss = 0.36630768, step = 1101 (1.336 sec)\n",
      "INFO:tensorflow:global_step/sec: 78.5501\n",
      "INFO:tensorflow:loss = 0.23979217, step = 1201 (1.270 sec)\n",
      "INFO:tensorflow:global_step/sec: 70.1715\n",
      "INFO:tensorflow:loss = 0.29837316, step = 1301 (1.426 sec)\n",
      "INFO:tensorflow:global_step/sec: 76.3898\n",
      "INFO:tensorflow:loss = 0.48291665, step = 1401 (1.308 sec)\n",
      "INFO:tensorflow:global_step/sec: 74.1246\n",
      "INFO:tensorflow:loss = 0.31713375, step = 1501 (1.350 sec)\n",
      "INFO:tensorflow:global_step/sec: 76.9187\n",
      "INFO:tensorflow:loss = 0.2842289, step = 1601 (1.299 sec)\n",
      "INFO:tensorflow:global_step/sec: 77.8772\n",
      "INFO:tensorflow:loss = 0.34238663, step = 1701 (1.284 sec)\n",
      "INFO:tensorflow:global_step/sec: 51.4374\n",
      "INFO:tensorflow:loss = 0.30176967, step = 1801 (1.945 sec)\n",
      "INFO:tensorflow:global_step/sec: 80.9671\n",
      "INFO:tensorflow:loss = 0.42066634, step = 1901 (1.235 sec)\n",
      "INFO:tensorflow:global_step/sec: 75.2403\n",
      "INFO:tensorflow:loss = 0.24823421, step = 2001 (1.330 sec)\n",
      "INFO:tensorflow:global_step/sec: 78.1816\n",
      "INFO:tensorflow:loss = 0.27396637, step = 2101 (1.280 sec)\n",
      "INFO:tensorflow:global_step/sec: 76.9779\n",
      "INFO:tensorflow:loss = 0.33527714, step = 2201 (1.297 sec)\n",
      "INFO:tensorflow:global_step/sec: 79.3605\n",
      "INFO:tensorflow:loss = 0.29375827, step = 2301 (1.259 sec)\n",
      "INFO:tensorflow:Saving checkpoints for 2344 into C:\\Users\\Javis\\AppData\\Local\\Temp\\tmpvterx6ar\\model.ckpt.\n",
      "INFO:tensorflow:Loss for final step: 0.31871334.\n"
     ]
    },
    {
     "data": {
      "text/plain": [
       "<tensorflow_estimator.python.estimator.estimator.Estimator at 0xeb641d5d48>"
      ]
     },
     "execution_count": 95,
     "metadata": {},
     "output_type": "execute_result"
    }
   ],
   "source": [
    "#training the model\n",
    "classifier.train(input_fn=train_input_fn)"
   ]
  },
  {
   "cell_type": "code",
   "execution_count": 96,
   "metadata": {},
   "outputs": [
    {
     "name": "stdout",
     "output_type": "stream",
     "text": [
      "INFO:tensorflow:Calling model_fn.\n",
      "INFO:tensorflow:Done calling model_fn.\n",
      "INFO:tensorflow:Starting evaluation at 2019-12-07T03:48:00Z\n",
      "INFO:tensorflow:Graph was finalized.\n",
      "INFO:tensorflow:Restoring parameters from C:\\Users\\Javis\\AppData\\Local\\Temp\\tmpvterx6ar\\model.ckpt-2344\n",
      "INFO:tensorflow:Running local_init_op.\n",
      "INFO:tensorflow:Done running local_init_op.\n",
      "INFO:tensorflow:Finished evaluation at 2019-12-07-03:48:02\n",
      "INFO:tensorflow:Saving dict for global step 2344: acc = 0.8713, global_step = 2344, loss = 0.36308756\n",
      "INFO:tensorflow:Saving 'checkpoint_path' summary for global step 2344: C:\\Users\\Javis\\AppData\\Local\\Temp\\tmpvterx6ar\\model.ckpt-2344\n"
     ]
    },
    {
     "data": {
      "text/plain": [
       "{'acc': 0.8713, 'loss': 0.36308756, 'global_step': 2344}"
      ]
     },
     "execution_count": 96,
     "metadata": {},
     "output_type": "execute_result"
    }
   ],
   "source": [
    "#Evaluating the model\n",
    "\n",
    "evaluate_input = tf.estimator.inputs.numpy_input_fn(x={input_name: test_features}, y=test_labels_1hot, num_epochs=1, \n",
    "                                                    shuffle=False)\n",
    "\n",
    "classifier.evaluate(input_fn=evaluate_input)"
   ]
  },
  {
   "cell_type": "code",
   "execution_count": 98,
   "metadata": {},
   "outputs": [
    {
     "name": "stdout",
     "output_type": "stream",
     "text": [
      "INFO:tensorflow:Calling model_fn.\n",
      "INFO:tensorflow:Done calling model_fn.\n",
      "INFO:tensorflow:Signatures INCLUDED in export for Classify: None\n",
      "INFO:tensorflow:Signatures INCLUDED in export for Regress: None\n",
      "INFO:tensorflow:Signatures INCLUDED in export for Predict: ['serving_default']\n",
      "INFO:tensorflow:Signatures INCLUDED in export for Train: None\n",
      "INFO:tensorflow:Signatures INCLUDED in export for Eval: None\n",
      "INFO:tensorflow:Restoring parameters from C:\\Users\\Javis\\AppData\\Local\\Temp\\tmpvterx6ar\\model.ckpt-2344\n",
      "INFO:tensorflow:Assets added to graph.\n",
      "INFO:tensorflow:No assets to write.\n",
      "INFO:tensorflow:SavedModel written to: temp-b'1575688012'\\saved_model.pb\n"
     ]
    }
   ],
   "source": [
    "#save the model trianed with the estimator\n",
    "feature_spec = {\n",
    "    input_name: tf.FixedLenFeature(shape=[784], dtype=np.float32)\n",
    "}\n",
    "serving_fn = tf.estimator.export.build_parsing_serving_input_receiver_fn(feature_spec)\n",
    "export_dir = classifier.export_savedmodel(export_dir_base=\"\", \n",
    "                            serving_input_receiver_fn=serving_fn)\n",
    "export_dir = export_dir.decode(\"utf8\")"
   ]
  },
  {
   "cell_type": "markdown",
   "metadata": {},
   "source": [
    "<p>From my observation, I saw that the tf.keras model trained faster than that of the tf.estimator model but both gave similar accuracy ouput that is 86% and 87% respectively. For me, a tf,keras model is mor easy to build than a tf.estimator model. <br />\n",
    "    The two API's are similar in some ways like the both have the evaluate() function but the also differ in some ways such as the Sequential() class in tf.keras that is not present in tf.estimator also the train() function in tf.estimator is not found in tf.keras</p>"
   ]
  },
  {
   "cell_type": "code",
   "execution_count": null,
   "metadata": {},
   "outputs": [],
   "source": []
  }
 ],
 "metadata": {
  "kernelspec": {
   "display_name": "Python 3",
   "language": "python",
   "name": "python3"
  },
  "language_info": {
   "codemirror_mode": {
    "name": "ipython",
    "version": 3
   },
   "file_extension": ".py",
   "mimetype": "text/x-python",
   "name": "python",
   "nbconvert_exporter": "python",
   "pygments_lexer": "ipython3",
   "version": "3.7.4"
  }
 },
 "nbformat": 4,
 "nbformat_minor": 2
}
